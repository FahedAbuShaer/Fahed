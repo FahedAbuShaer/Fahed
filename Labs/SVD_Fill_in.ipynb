{
 "cells": [
  {
   "cell_type": "code",
   "execution_count": 3,
   "metadata": {},
   "outputs": [],
   "source": [
    "import numpy as np\n",
    "import matplotlib.pyplot as plt\n",
    "import cv2\n",
    "import ffmpeg"
   ]
  },
  {
   "cell_type": "markdown",
   "metadata": {},
   "source": [
    "## First load the video and convert it to numpy array"
   ]
  },
  {
   "cell_type": "code",
   "execution_count": 4,
   "metadata": {},
   "outputs": [],
   "source": [
    "Video = cv2.VideoCapture('Video.mp4')\n",
    "Frames = int(Video.get(cv2.CAP_PROP_FRAME_COUNT))\n",
    "Length = int(Video.get(cv2.CAP_PROP_FRAME_HEIGHT))\n",
    "Width  = int(Video.get(cv2.CAP_PROP_FRAME_WIDTH))\n",
    "Frame_rate = int(Video.get(cv2.CAP_PROP_FPS))\n",
    "Data = np.zeros((Frames, Length, Width), dtype=np.uint8)\n",
    "for i in range(Frames):\n",
    "    ret, frame = Video.read()\n",
    "    if ret == True:\n",
    "        Image = cv2.cvtColor(frame, cv2.COLOR_BGR2GRAY)\n",
    "        Data[i] = Image\n",
    "    else:\n",
    "        break"
   ]
  },
  {
   "cell_type": "markdown",
   "metadata": {},
   "source": [
    "## Create the Big Matrix "
   ]
  },
  {
   "cell_type": "code",
   "execution_count": 9,
   "metadata": {},
   "outputs": [],
   "source": [
    "A = np.zeros((Length * Width, Frames), dtype=np.uint8)\n",
    "for i in range(Frames):\n",
    "    A[:,i] = Data[i].reshape(Length * Width)"
   ]
  },
  {
   "cell_type": "code",
   "execution_count": 10,
   "metadata": {},
   "outputs": [
    {
     "data": {
      "text/plain": [
       "array([[68, 67, 67, ..., 45, 45, 45],\n",
       "       [68, 67, 67, ..., 45, 45, 45],\n",
       "       [68, 67, 67, ..., 45, 45, 45],\n",
       "       ...,\n",
       "       [ 3,  2, 16, ..., 16, 16, 22],\n",
       "       [ 3,  2, 16, ..., 16, 16, 22],\n",
       "       [ 3,  2, 16, ..., 16, 16, 22]], dtype=uint8)"
      ]
     },
     "execution_count": 10,
     "metadata": {},
     "output_type": "execute_result"
    }
   ],
   "source": [
    "A"
   ]
  },
  {
   "cell_type": "code",
   "execution_count": 11,
   "metadata": {},
   "outputs": [
    {
     "data": {
      "text/plain": [
       "(921600, 51)"
      ]
     },
     "execution_count": 11,
     "metadata": {},
     "output_type": "execute_result"
    }
   ],
   "source": [
    "A.shape"
   ]
  },
  {
   "cell_type": "markdown",
   "metadata": {},
   "source": [
    "## Perform SVD"
   ]
  },
  {
   "cell_type": "code",
   "execution_count": 16,
   "metadata": {},
   "outputs": [],
   "source": [
    "U,S,V = np.linalg.svd(A, full_matrices= False)"
   ]
  },
  {
   "cell_type": "code",
   "execution_count": 22,
   "metadata": {},
   "outputs": [
    {
     "data": {
      "text/plain": [
       "array([[68., 67., 67., ..., 45., 45., 45.],\n",
       "       [68., 67., 67., ..., 45., 45., 45.],\n",
       "       [68., 67., 67., ..., 45., 45., 45.],\n",
       "       ...,\n",
       "       [ 3.,  2., 16., ..., 16., 16., 22.],\n",
       "       [ 3.,  2., 16., ..., 16., 16., 22.],\n",
       "       [ 3.,  2., 16., ..., 16., 16., 22.]])"
      ]
     },
     "execution_count": 22,
     "metadata": {},
     "output_type": "execute_result"
    }
   ],
   "source": [
    "U@np.diag(S)@V"
   ]
  },
  {
   "cell_type": "markdown",
   "metadata": {},
   "source": [
    "## Look at the singular values"
   ]
  },
  {
   "cell_type": "code",
   "execution_count": 23,
   "metadata": {},
   "outputs": [
    {
     "data": {
      "image/png": "[encoded data removed]",
      "text/plain": [
       "<Figure size 640x480 with 1 Axes>"
      ]
     },
     "metadata": {},
     "output_type": "display_data"
    }
   ],
   "source": [
    "plt.scatter(np.arange(len(S)), S)\n",
    "plt.show()"
   ]
  },
  {
   "cell_type": "markdown",
   "metadata": {},
   "source": [
    "## Recreate the Video with 1, 5, 10 sigmas "
   ]
  },
  {
   "cell_type": "code",
   "execution_count": 24,
   "metadata": {},
   "outputs": [
    {
     "data": {
      "text/plain": [
       "array([[69.0431633 , 75.57990061, 75.43825616, ..., 50.79714266,\n",
       "        51.03039522, 52.0793712 ],\n",
       "       [69.0431633 , 75.57990061, 75.43825616, ..., 50.79714266,\n",
       "        51.03039522, 52.07937119],\n",
       "       [69.0431633 , 75.57990061, 75.43825616, ..., 50.79714266,\n",
       "        51.03039522, 52.07937119],\n",
       "       ...,\n",
       "       [21.73737294, 23.7953826 , 23.75078762, ..., 15.99284247,\n",
       "        16.06627911, 16.39653602],\n",
       "       [21.73737294, 23.7953826 , 23.75078762, ..., 15.99284247,\n",
       "        16.06627911, 16.39653602],\n",
       "       [21.73737294, 23.7953826 , 23.75078762, ..., 15.99284247,\n",
       "        16.06627911, 16.39653602]])"
      ]
     },
     "execution_count": 24,
     "metadata": {},
     "output_type": "execute_result"
    }
   ],
   "source": [
    "A_New = U[:, :1] * S[0] @ V[:1]\n",
    "Image = np.zeros((Frames, Length, Width), dtype=np.unit8)\n",
    "for i in range(Frames):\n",
    "    "
   ]
  },
  {
   "cell_type": "markdown",
   "metadata": {},
   "source": [
    "## Convert back to video"
   ]
  },
  {
   "cell_type": "code",
   "execution_count": 30,
   "metadata": {},
   "outputs": [
    {
     "ename": "FileNotFoundError",
     "evalue": "[WinError 2] The system cannot find the file specified",
     "output_type": "error",
     "traceback": [
      "\u001b[1;31m---------------------------------------------------------------------------\u001b[0m",
      "\u001b[1;31mFileNotFoundError\u001b[0m                         Traceback (most recent call last)",
      "\u001b[1;32mc:\\Users\\USAID\\Desktop\\PHYS 222\\Github Folder\\Fahed\\Labs\\SVD_Fill_in.ipynb Cell 16\u001b[0m line \u001b[0;36m4\n\u001b[0;32m      <a href='vscode-notebook-cell:/c%3A/Users/USAID/Desktop/PHYS%20222/Github%20Folder/Fahed/Labs/SVD_Fill_in.ipynb#X15sZmlsZQ%3D%3D?line=0'>1</a>\u001b[0m (ffmpeg\n\u001b[0;32m      <a href='vscode-notebook-cell:/c%3A/Users/USAID/Desktop/PHYS%20222/Github%20Folder/Fahed/Labs/SVD_Fill_in.ipynb#X15sZmlsZQ%3D%3D?line=1'>2</a>\u001b[0m \u001b[39m.\u001b[39;49minput(\u001b[39m'\u001b[39;49m\u001b[39mTemp/Image_\u001b[39;49m\u001b[39m%d\u001b[39;49;00m\u001b[39m.jpg\u001b[39;49m\u001b[39m'\u001b[39;49m, framerate\u001b[39m=\u001b[39;49mFrame_rate)\n\u001b[0;32m      <a href='vscode-notebook-cell:/c%3A/Users/USAID/Desktop/PHYS%20222/Github%20Folder/Fahed/Labs/SVD_Fill_in.ipynb#X15sZmlsZQ%3D%3D?line=2'>3</a>\u001b[0m \u001b[39m.\u001b[39;49moutput(\u001b[39mf\u001b[39;49m\u001b[39m'\u001b[39;49m\u001b[39mVideos/\u001b[39;49m\u001b[39m{\u001b[39;49;00m\u001b[39m1\u001b[39;49m\u001b[39m}\u001b[39;49;00m\u001b[39m-sigular_values.mp4\u001b[39;49m\u001b[39m'\u001b[39;49m,loglevel\u001b[39m=\u001b[39;49m\u001b[39m'\u001b[39;49m\u001b[39mquiet\u001b[39;49m\u001b[39m'\u001b[39;49m)\n\u001b[1;32m----> <a href='vscode-notebook-cell:/c%3A/Users/USAID/Desktop/PHYS%20222/Github%20Folder/Fahed/Labs/SVD_Fill_in.ipynb#X15sZmlsZQ%3D%3D?line=3'>4</a>\u001b[0m \u001b[39m.\u001b[39;49mrun(overwrite_output\u001b[39m=\u001b[39;49m\u001b[39mTrue\u001b[39;49;00m))\n",
      "File \u001b[1;32mc:\\Users\\USAID\\AppData\\Local\\Programs\\Python\\Python311\\Lib\\site-packages\\ffmpeg\\_run.py:313\u001b[0m, in \u001b[0;36mrun\u001b[1;34m(stream_spec, cmd, capture_stdout, capture_stderr, input, quiet, overwrite_output)\u001b[0m\n\u001b[0;32m    289\u001b[0m \u001b[39m@output_operator\u001b[39m()\n\u001b[0;32m    290\u001b[0m \u001b[39mdef\u001b[39;00m \u001b[39mrun\u001b[39m(\n\u001b[0;32m    291\u001b[0m     stream_spec,\n\u001b[1;32m   (...)\u001b[0m\n\u001b[0;32m    297\u001b[0m     overwrite_output\u001b[39m=\u001b[39m\u001b[39mFalse\u001b[39;00m,\n\u001b[0;32m    298\u001b[0m ):\n\u001b[0;32m    299\u001b[0m \u001b[39m    \u001b[39m\u001b[39m\"\"\"Invoke ffmpeg for the supplied node graph.\u001b[39;00m\n\u001b[0;32m    300\u001b[0m \n\u001b[0;32m    301\u001b[0m \u001b[39m    Args:\u001b[39;00m\n\u001b[1;32m   (...)\u001b[0m\n\u001b[0;32m    311\u001b[0m \u001b[39m    Returns: (out, err) tuple containing captured stdout and stderr data.\u001b[39;00m\n\u001b[0;32m    312\u001b[0m \u001b[39m    \"\"\"\u001b[39;00m\n\u001b[1;32m--> 313\u001b[0m     process \u001b[39m=\u001b[39m run_async(\n\u001b[0;32m    314\u001b[0m         stream_spec,\n\u001b[0;32m    315\u001b[0m         cmd,\n\u001b[0;32m    316\u001b[0m         pipe_stdin\u001b[39m=\u001b[39;49m\u001b[39minput\u001b[39;49m \u001b[39mis\u001b[39;49;00m \u001b[39mnot\u001b[39;49;00m \u001b[39mNone\u001b[39;49;00m,\n\u001b[0;32m    317\u001b[0m         pipe_stdout\u001b[39m=\u001b[39;49mcapture_stdout,\n\u001b[0;32m    318\u001b[0m         pipe_stderr\u001b[39m=\u001b[39;49mcapture_stderr,\n\u001b[0;32m    319\u001b[0m         quiet\u001b[39m=\u001b[39;49mquiet,\n\u001b[0;32m    320\u001b[0m         overwrite_output\u001b[39m=\u001b[39;49moverwrite_output,\n\u001b[0;32m    321\u001b[0m     )\n\u001b[0;32m    322\u001b[0m     out, err \u001b[39m=\u001b[39m process\u001b[39m.\u001b[39mcommunicate(\u001b[39minput\u001b[39m)\n\u001b[0;32m    323\u001b[0m     retcode \u001b[39m=\u001b[39m process\u001b[39m.\u001b[39mpoll()\n",
      "File \u001b[1;32mc:\\Users\\USAID\\AppData\\Local\\Programs\\Python\\Python311\\Lib\\site-packages\\ffmpeg\\_run.py:284\u001b[0m, in \u001b[0;36mrun_async\u001b[1;34m(stream_spec, cmd, pipe_stdin, pipe_stdout, pipe_stderr, quiet, overwrite_output)\u001b[0m\n\u001b[0;32m    282\u001b[0m stdout_stream \u001b[39m=\u001b[39m subprocess\u001b[39m.\u001b[39mPIPE \u001b[39mif\u001b[39;00m pipe_stdout \u001b[39mor\u001b[39;00m quiet \u001b[39melse\u001b[39;00m \u001b[39mNone\u001b[39;00m\n\u001b[0;32m    283\u001b[0m stderr_stream \u001b[39m=\u001b[39m subprocess\u001b[39m.\u001b[39mPIPE \u001b[39mif\u001b[39;00m pipe_stderr \u001b[39mor\u001b[39;00m quiet \u001b[39melse\u001b[39;00m \u001b[39mNone\u001b[39;00m\n\u001b[1;32m--> 284\u001b[0m \u001b[39mreturn\u001b[39;00m subprocess\u001b[39m.\u001b[39;49mPopen(\n\u001b[0;32m    285\u001b[0m     args, stdin\u001b[39m=\u001b[39;49mstdin_stream, stdout\u001b[39m=\u001b[39;49mstdout_stream, stderr\u001b[39m=\u001b[39;49mstderr_stream\n\u001b[0;32m    286\u001b[0m )\n",
      "File \u001b[1;32mc:\\Users\\USAID\\AppData\\Local\\Programs\\Python\\Python311\\Lib\\subprocess.py:1026\u001b[0m, in \u001b[0;36mPopen.__init__\u001b[1;34m(self, args, bufsize, executable, stdin, stdout, stderr, preexec_fn, close_fds, shell, cwd, env, universal_newlines, startupinfo, creationflags, restore_signals, start_new_session, pass_fds, user, group, extra_groups, encoding, errors, text, umask, pipesize, process_group)\u001b[0m\n\u001b[0;32m   1022\u001b[0m         \u001b[39mif\u001b[39;00m \u001b[39mself\u001b[39m\u001b[39m.\u001b[39mtext_mode:\n\u001b[0;32m   1023\u001b[0m             \u001b[39mself\u001b[39m\u001b[39m.\u001b[39mstderr \u001b[39m=\u001b[39m io\u001b[39m.\u001b[39mTextIOWrapper(\u001b[39mself\u001b[39m\u001b[39m.\u001b[39mstderr,\n\u001b[0;32m   1024\u001b[0m                     encoding\u001b[39m=\u001b[39mencoding, errors\u001b[39m=\u001b[39merrors)\n\u001b[1;32m-> 1026\u001b[0m     \u001b[39mself\u001b[39;49m\u001b[39m.\u001b[39;49m_execute_child(args, executable, preexec_fn, close_fds,\n\u001b[0;32m   1027\u001b[0m                         pass_fds, cwd, env,\n\u001b[0;32m   1028\u001b[0m                         startupinfo, creationflags, shell,\n\u001b[0;32m   1029\u001b[0m                         p2cread, p2cwrite,\n\u001b[0;32m   1030\u001b[0m                         c2pread, c2pwrite,\n\u001b[0;32m   1031\u001b[0m                         errread, errwrite,\n\u001b[0;32m   1032\u001b[0m                         restore_signals,\n\u001b[0;32m   1033\u001b[0m                         gid, gids, uid, umask,\n\u001b[0;32m   1034\u001b[0m                         start_new_session, process_group)\n\u001b[0;32m   1035\u001b[0m \u001b[39mexcept\u001b[39;00m:\n\u001b[0;32m   1036\u001b[0m     \u001b[39m# Cleanup if the child failed starting.\u001b[39;00m\n\u001b[0;32m   1037\u001b[0m     \u001b[39mfor\u001b[39;00m f \u001b[39min\u001b[39;00m \u001b[39mfilter\u001b[39m(\u001b[39mNone\u001b[39;00m, (\u001b[39mself\u001b[39m\u001b[39m.\u001b[39mstdin, \u001b[39mself\u001b[39m\u001b[39m.\u001b[39mstdout, \u001b[39mself\u001b[39m\u001b[39m.\u001b[39mstderr)):\n",
      "File \u001b[1;32mc:\\Users\\USAID\\AppData\\Local\\Programs\\Python\\Python311\\Lib\\subprocess.py:1538\u001b[0m, in \u001b[0;36mPopen._execute_child\u001b[1;34m(self, args, executable, preexec_fn, close_fds, pass_fds, cwd, env, startupinfo, creationflags, shell, p2cread, p2cwrite, c2pread, c2pwrite, errread, errwrite, unused_restore_signals, unused_gid, unused_gids, unused_uid, unused_umask, unused_start_new_session, unused_process_group)\u001b[0m\n\u001b[0;32m   1536\u001b[0m \u001b[39m# Start the process\u001b[39;00m\n\u001b[0;32m   1537\u001b[0m \u001b[39mtry\u001b[39;00m:\n\u001b[1;32m-> 1538\u001b[0m     hp, ht, pid, tid \u001b[39m=\u001b[39m _winapi\u001b[39m.\u001b[39;49mCreateProcess(executable, args,\n\u001b[0;32m   1539\u001b[0m                              \u001b[39m# no special security\u001b[39;49;00m\n\u001b[0;32m   1540\u001b[0m                              \u001b[39mNone\u001b[39;49;00m, \u001b[39mNone\u001b[39;49;00m,\n\u001b[0;32m   1541\u001b[0m                              \u001b[39mint\u001b[39;49m(\u001b[39mnot\u001b[39;49;00m close_fds),\n\u001b[0;32m   1542\u001b[0m                              creationflags,\n\u001b[0;32m   1543\u001b[0m                              env,\n\u001b[0;32m   1544\u001b[0m                              cwd,\n\u001b[0;32m   1545\u001b[0m                              startupinfo)\n\u001b[0;32m   1546\u001b[0m \u001b[39mfinally\u001b[39;00m:\n\u001b[0;32m   1547\u001b[0m     \u001b[39m# Child is launched. Close the parent's copy of those pipe\u001b[39;00m\n\u001b[0;32m   1548\u001b[0m     \u001b[39m# handles that only the child should have open.  You need\u001b[39;00m\n\u001b[1;32m   (...)\u001b[0m\n\u001b[0;32m   1551\u001b[0m     \u001b[39m# pipe will not close when the child process exits and the\u001b[39;00m\n\u001b[0;32m   1552\u001b[0m     \u001b[39m# ReadFile will hang.\u001b[39;00m\n\u001b[0;32m   1553\u001b[0m     \u001b[39mself\u001b[39m\u001b[39m.\u001b[39m_close_pipe_fds(p2cread, p2cwrite,\n\u001b[0;32m   1554\u001b[0m                          c2pread, c2pwrite,\n\u001b[0;32m   1555\u001b[0m                          errread, errwrite)\n",
      "\u001b[1;31mFileNotFoundError\u001b[0m: [WinError 2] The system cannot find the file specified"
     ]
    }
   ],
   "source": [
    "(ffmpeg\n",
    ".input('Temp/Image_%d.jpg', framerate=Frame_rate)\n",
    ".output(f'Videos/{1}-sigular_values.mp4',loglevel='quiet')\n",
    ".run(overwrite_output=True))"
   ]
  }
 ],
 "metadata": {
  "kernelspec": {
   "display_name": "Python 3",
   "language": "python",
   "name": "python3"
  },
  "language_info": {
   "codemirror_mode": {
    "name": "ipython",
    "version": 3
   },
   "file_extension": ".py",
   "mimetype": "text/x-python",
   "name": "python",
   "nbconvert_exporter": "python",
   "pygments_lexer": "ipython3",
   "version": "3.11.4"
  }
 },
 "nbformat": 4,
 "nbformat_minor": 2
}
