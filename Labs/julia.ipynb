{
 "cells": [
  {
   "cell_type": "code",
   "execution_count": null,
   "metadata": {},
   "outputs": [],
   "source": [
    "pick a c - Complex value\n",
    "For each c we have a Set points z\n",
    "z_n+1 = z_n^2 + c (1)\n",
    "Complex plane\n",
    "For any value of z, we do a function if it doesn't blow up it is in the julia set\n",
    "take all of the points calculate multiple times and keep all the points that does not blow up (ex. ||z||<4)\n",
    "plot black for the one in julia and color for the one that blew up \n",
    "\n",
    "Complex plane, for every value c if in the julia set there is a point in it color it black, and if not another color, this is monderbond set"
   ]
  },
  {
   "cell_type": "code",
   "execution_count": 1,
   "metadata": {},
   "outputs": [
    {
     "name": "stdout",
     "output_type": "stream",
     "text": [
      "Requirement already satisfied: Pygments in c:\\users\\usaid\\appdata\\roaming\\python\\python311\\site-packages (2.16.1)\n",
      "Note: you may need to restart the kernel to use updated packages.\n"
     ]
    },
    {
     "name": "stderr",
     "output_type": "stream",
     "text": [
      "\n",
      "[notice] A new release of pip is available: 23.1.2 -> 23.2.1\n",
      "[notice] To update, run: python.exe -m pip install --upgrade pip\n"
     ]
    }
   ],
   "source": [
    "pip install Pygments"
   ]
  }
 ],
 "metadata": {
  "kernelspec": {
   "display_name": "Python 3",
   "language": "python",
   "name": "python3"
  },
  "language_info": {
   "codemirror_mode": {
    "name": "ipython",
    "version": 3
   },
   "file_extension": ".py",
   "mimetype": "text/x-python",
   "name": "python",
   "nbconvert_exporter": "python",
   "pygments_lexer": "ipython3",
   "version": "3.11.4"
  },
  "orig_nbformat": 4
 },
 "nbformat": 4,
 "nbformat_minor": 2
}
