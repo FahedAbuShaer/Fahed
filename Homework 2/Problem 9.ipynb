{
 "cells": [
  {
   "cell_type": "code",
   "execution_count": null,
   "metadata": {},
   "outputs": [],
   "source": [
    "import numpy as np \n",
    "import matplotlib.pyplot as plt \n",
    "import networkx as nx \n",
    "import scipy as sp\n",
    "import sympy as syp \n",
    "import random as rand\n",
    "syp.interactive.printing.init_printing(use_latex= True)"
   ]
  }
 ],
 "metadata": {
  "kernelspec": {
   "display_name": "Python 3",
   "language": "python",
   "name": "python3"
  },
  "language_info": {
   "name": "python",
   "version": "3.11.4"
  }
 },
 "nbformat": 4,
 "nbformat_minor": 2
}
