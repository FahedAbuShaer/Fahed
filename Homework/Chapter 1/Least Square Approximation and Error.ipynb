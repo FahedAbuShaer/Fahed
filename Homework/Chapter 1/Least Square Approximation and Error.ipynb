{
 "cells": [
  {
   "cell_type": "code",
   "execution_count": 1,
   "metadata": {},
   "outputs": [],
   "source": [
    "import numpy as np\n",
    "import matplotlib.pyplot as plt"
   ]
  },
  {
   "cell_type": "code",
   "execution_count": 2,
   "metadata": {},
   "outputs": [],
   "source": [
    "def Vandermond(x, y, n):\n",
    "    V = np.empty([len(x), n + 1])\n",
    "    for i in range(len(x) - 1):\n",
    "        for j in range(n + 1):\n",
    "            V[i, j] = x[i] ** (n - j)\n",
    "    return V"
   ]
  },
  {
   "cell_type": "code",
   "execution_count": 3,
   "metadata": {},
   "outputs": [],
   "source": [
    "def LeastSquare(V, y):\n",
    "    Vt = np.transpose(V)\n",
    "    A = Vt @ V\n",
    "    Y = Vt @ y\n",
    "    b = np.linalg.solve(A, Y)\n",
    "    return b"
   ]
  },
  {
   "cell_type": "code",
   "execution_count": 7,
   "metadata": {},
   "outputs": [],
   "source": [
    "def fitpolynomial(x, b, n):\n",
    "    Ps = []\n",
    "    p = b[0]\n",
    "    for i in range(1, n + 1):\n",
    "        p += b[i] * x ** (n - i)\n",
    "        Ps[i - 1] = p\n",
    "    return Ps"
   ]
  },
  {
   "cell_type": "code",
   "execution_count": 5,
   "metadata": {},
   "outputs": [],
   "source": [
    "def SSE(P, y):\n",
    "    k = np.subtract(P, y)\n",
    "    error = np.sum(k * k)\n",
    "    return error\n"
   ]
  },
  {
   "cell_type": "code",
   "execution_count": 8,
   "metadata": {},
   "outputs": [
    {
     "ename": "ValueError",
     "evalue": "operands could not be broadcast together with shapes (0,) (16,) ",
     "output_type": "error",
     "traceback": [
      "\u001b[1;31m---------------------------------------------------------------------------\u001b[0m",
      "\u001b[1;31mValueError\u001b[0m                                Traceback (most recent call last)",
      "\u001b[1;32mc:\\Users\\USAID\\Desktop\\PHYS 222\\Github Folder\\Fahed\\Homework\\Chapter 1\\Least Square Approximation and Error.ipynb Cell 6\u001b[0m line \u001b[0;36m1\n\u001b[0;32m     <a href='vscode-notebook-cell:/c%3A/Users/USAID/Desktop/PHYS%20222/Github%20Folder/Fahed/Homework/Chapter%201/Least%20Square%20Approximation%20and%20Error.ipynb#W5sZmlsZQ%3D%3D?line=10'>11</a>\u001b[0m b \u001b[39m=\u001b[39m LeastSquare(V, y_train)\n\u001b[0;32m     <a href='vscode-notebook-cell:/c%3A/Users/USAID/Desktop/PHYS%20222/Github%20Folder/Fahed/Homework/Chapter%201/Least%20Square%20Approximation%20and%20Error.ipynb#W5sZmlsZQ%3D%3D?line=11'>12</a>\u001b[0m p \u001b[39m=\u001b[39m fitpolynomial(x_train, b, i)\n\u001b[1;32m---> <a href='vscode-notebook-cell:/c%3A/Users/USAID/Desktop/PHYS%20222/Github%20Folder/Fahed/Homework/Chapter%201/Least%20Square%20Approximation%20and%20Error.ipynb#W5sZmlsZQ%3D%3D?line=12'>13</a>\u001b[0m error \u001b[39m=\u001b[39m SSE(p, y_train)\n\u001b[0;32m     <a href='vscode-notebook-cell:/c%3A/Users/USAID/Desktop/PHYS%20222/Github%20Folder/Fahed/Homework/Chapter%201/Least%20Square%20Approximation%20and%20Error.ipynb#W5sZmlsZQ%3D%3D?line=13'>14</a>\u001b[0m plt\u001b[39m.\u001b[39mplot(x_train, p)\n\u001b[0;32m     <a href='vscode-notebook-cell:/c%3A/Users/USAID/Desktop/PHYS%20222/Github%20Folder/Fahed/Homework/Chapter%201/Least%20Square%20Approximation%20and%20Error.ipynb#W5sZmlsZQ%3D%3D?line=14'>15</a>\u001b[0m np\u001b[39m.\u001b[39mappend(train_error, error)\n",
      "\u001b[1;32mc:\\Users\\USAID\\Desktop\\PHYS 222\\Github Folder\\Fahed\\Homework\\Chapter 1\\Least Square Approximation and Error.ipynb Cell 6\u001b[0m line \u001b[0;36m2\n\u001b[0;32m      <a href='vscode-notebook-cell:/c%3A/Users/USAID/Desktop/PHYS%20222/Github%20Folder/Fahed/Homework/Chapter%201/Least%20Square%20Approximation%20and%20Error.ipynb#W5sZmlsZQ%3D%3D?line=0'>1</a>\u001b[0m \u001b[39mdef\u001b[39;00m \u001b[39mSSE\u001b[39m(P, y):\n\u001b[1;32m----> <a href='vscode-notebook-cell:/c%3A/Users/USAID/Desktop/PHYS%20222/Github%20Folder/Fahed/Homework/Chapter%201/Least%20Square%20Approximation%20and%20Error.ipynb#W5sZmlsZQ%3D%3D?line=1'>2</a>\u001b[0m     k \u001b[39m=\u001b[39m np\u001b[39m.\u001b[39;49msubtract(P, y)\n\u001b[0;32m      <a href='vscode-notebook-cell:/c%3A/Users/USAID/Desktop/PHYS%20222/Github%20Folder/Fahed/Homework/Chapter%201/Least%20Square%20Approximation%20and%20Error.ipynb#W5sZmlsZQ%3D%3D?line=2'>3</a>\u001b[0m     error \u001b[39m=\u001b[39m np\u001b[39m.\u001b[39msum(k \u001b[39m*\u001b[39m k)\n\u001b[0;32m      <a href='vscode-notebook-cell:/c%3A/Users/USAID/Desktop/PHYS%20222/Github%20Folder/Fahed/Homework/Chapter%201/Least%20Square%20Approximation%20and%20Error.ipynb#W5sZmlsZQ%3D%3D?line=3'>4</a>\u001b[0m     \u001b[39mreturn\u001b[39;00m error\n",
      "\u001b[1;31mValueError\u001b[0m: operands could not be broadcast together with shapes (0,) (16,) "
     ]
    },
    {
     "data": {
      "image/png": "[encoded data removed]",
      "text/plain": [
       "<Figure size 640x480 with 1 Axes>"
      ]
     },
     "metadata": {},
     "output_type": "display_data"
    }
   ],
   "source": [
    "x = np.linspace(-10, 10, 20)\n",
    "x_train = np.random.choice(x, int(0.8*len(x)), replace = False)\n",
    "y_train = np.random.uniform(0, 10, int(0.8*len(x))) * x_train ** 3 + np.random.uniform(0, 10, int(0.8*len(x)))\n",
    "plt.scatter(x_train, y_train)\n",
    "x_test = np.setdiff1d(x, x_train)\n",
    "n = 3\n",
    "train_error = np.empty(n)\n",
    "order = np.arange(1, n + 1, 1)\n",
    "for i in range(n + 1):\n",
    "    V = Vandermond(x_train, y_train, i)\n",
    "    b = LeastSquare(V, y_train)\n",
    "    p = fitpolynomial(x_train, b, i)\n",
    "    print(p)\n",
    "    error = SSE(p, y_train)\n",
    "    plt.plot(x_train, p)\n",
    "    np.append(train_error, error)\n",
    "print(train_error, order)\n",
    "plt.show()\n",
    "plt.plot(order, train_error, label = \"Train\")\n",
    "plt.legend()\n",
    "plt.show()\n",
    "\n"
   ]
  }
 ],
 "metadata": {
  "kernelspec": {
   "display_name": "Python 3",
   "language": "python",
   "name": "python3"
  },
  "language_info": {
   "codemirror_mode": {
    "name": "ipython",
    "version": 3
   },
   "file_extension": ".py",
   "mimetype": "text/x-python",
   "name": "python",
   "nbconvert_exporter": "python",
   "pygments_lexer": "ipython3",
   "version": "3.11.4"
  },
  "orig_nbformat": 4
 },
 "nbformat": 4,
 "nbformat_minor": 2
}
